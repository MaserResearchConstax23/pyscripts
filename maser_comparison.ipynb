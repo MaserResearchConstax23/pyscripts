{
 "cells": [
  {
   "cell_type": "code",
   "execution_count": 52,
   "metadata": {},
   "outputs": [],
   "source": [
    "!pip install ipywidgets\n",
    "!pip install pandas\n",
    "!pip install astropy\n",
    "!pip install numpy\n",
    "!pip install jupyter_ui_poll"
   ]
  },
  {
   "cell_type": "code",
   "execution_count": 53,
   "metadata": {},
   "outputs": [],
   "source": [
    "## SETTINGS\n",
    "\n",
    "search_radius = 1/3600.0 #in degrees"
   ]
  },
  {
   "cell_type": "code",
   "execution_count": 54,
   "metadata": {},
   "outputs": [],
   "source": [
    "import math\n",
    "import numpy as np\n",
    "import pandas as pd\n",
    "import astropy\n",
    "\n",
    "\n",
    "import astroquery\n",
    "from astroquery.ipac.ned import Ned\n",
    "import pandas as pd\n",
    "\n",
    "def query_ned_by_name(name):\n",
    "    result_table = None\n",
    "    success = False\n",
    "    msg = \"Match Found!\"\n",
    "    try:\n",
    "        result_table = Ned.query_object(name) #astropy.table.Table\n",
    "        success = True\n",
    "    except astroquery.exceptions.RemoteServiceError as error:\n",
    "        msg = error\n",
    "    except Exception as error:\n",
    "        msg = error\n",
    "    return result_table, success, msg\n",
    "\n",
    "\n",
    "def query_ned_by_coords(pass_ra, pass_dec, pass_radius): # uses deg\n",
    "    result_table = None\n",
    "    success = False\n",
    "    msg = \"Match Found!\"\n",
    "    try:\n",
    "\n",
    "        position = SkyCoord(ra=pass_ra, dec=pass_dec, unit=(u.deg, u.deg), frame='icrs')\n",
    "        result_table = Ned.query_region(position, radius=pass_radius * u.deg)\n",
    "        success = True\n",
    "    except astroquery.exceptions.RemoteServiceError as error:\n",
    "        msg = error\n",
    "    except Exception as error:\n",
    "        msg = error\n",
    "    return result_table, success, msg\n",
    "\n",
    "\n",
    "\n",
    "def is_within_rad(ra_1, ra_2, dec_1, dec_2):\n",
    "    return (search_rad / 3600.0) > (math.sqrt((math.pow((((ra_1 * (math.pi / 180.0)) - (ra_2 * (math.pi / 180.0))) * (math.cos((dec_1 * (math.pi / 180.0))))), 2)) + math.pow(((dec_1 * (math.pi / 180.0)) - (dec_2 * (math.pi / 180.0))), 2))) * (180.0 / math.pi)\n",
    "\n",
    "\n",
    "\n",
    "# load csv files\n",
    "all_surveyed_path = './data/ConstantinResearchGroup.mcpikeej.allsurveyed_noduplicates_rudmingb.csv'\n",
    "masers_path = './data/MCPMaser2020_rudmingb.csv'\n",
    "\n",
    "all_surveyed = pd.read_csv(all_surveyed_path)\n",
    "masers = pd.read_csv(masers_path)\n",
    "\n",
    "\n",
    "\n"
   ]
  },
  {
   "attachments": {},
   "cell_type": "markdown",
   "metadata": {},
   "source": [
    "## All Surveyed Data Sample: "
   ]
  },
  {
   "cell_type": "code",
   "execution_count": 55,
   "metadata": {},
   "outputs": [
    {
     "name": "stdout",
     "output_type": "stream",
     "text": [
      "      count2019_01 source_name_01_y       ra_01     dec_01\n",
      "0                1   RXSJ00001+0523    0.049083   5.388170\n",
      "1                2      KUG2358+330    0.242083  33.343900\n",
      "2                3  0001233+4733537    0.347083  47.564900\n",
      "3                5         NGC-7806    0.375250  31.441900\n",
      "4                6  0001383+2329011    0.409667  23.483600\n",
      "...            ...              ...         ...        ...\n",
      "4213          6348    MCG-03.01.002  359.199000 -16.509600\n",
      "4214          6350        UGC-12864  359.350000  30.992200\n",
      "4215          6351    235744+003919  359.432000   0.655194\n",
      "4216          6352         UGC12879  359.755000  18.834200\n",
      "4217          6353           IC1524  359.795000  -4.126920\n",
      "\n",
      "[4218 rows x 4 columns]\n"
     ]
    }
   ],
   "source": [
    "print(all_surveyed)"
   ]
  },
  {
   "attachments": {},
   "cell_type": "markdown",
   "metadata": {},
   "source": [
    "## Masers Data Sample: "
   ]
  },
  {
   "cell_type": "code",
   "execution_count": 56,
   "metadata": {},
   "outputs": [
    {
     "name": "stdout",
     "output_type": "stream",
     "text": [
      "     count2019    Source_Name  RA_(J2000)  Dec_(J2000) Vsys_(km/s)   Lum Class\n",
      "0            1         NGC_23    2.473333    25.923060        4565   180     ?\n",
      "1            2         NGC_17    2.777083   -12.107220        5931   <10     ?\n",
      "2            3     J0011-0054    2.938333    -0.908611       14384   527     ?\n",
      "3            4     J0027+4544    6.855417    45.740830       12003   507     ?\n",
      "4            5           IC10    5.074584    59.308610        -350  0.02    SF\n",
      "..         ...            ...         ...          ...         ...   ...   ...\n",
      "175        176       NGC_7479  346.236100    12.322890        2381    19     ?\n",
      "176        177        IC_1481  349.854600     5.906111        6120   320     ?\n",
      "177        178  MCG+05-55-041  354.318500    31.800720        9356    93     ?\n",
      "178        179       NGC_7738  356.008300     0.516667        6762   468     ?\n",
      "179        180    CGCG498-038  358.934200    30.212220        9240   268     ?\n",
      "\n",
      "[180 rows x 7 columns]\n"
     ]
    }
   ],
   "source": [
    "print(masers)"
   ]
  },
  {
   "attachments": {},
   "cell_type": "markdown",
   "metadata": {},
   "source": [
    "## Column Identifiers\n",
    "Use the data sample to record the relevant column headers "
   ]
  },
  {
   "cell_type": "code",
   "execution_count": 57,
   "metadata": {},
   "outputs": [],
   "source": [
    "## create a key-lookup table\n",
    "# Column identifiers for all_surveyed\n",
    "all_surveyed_cols = dict(\n",
    "ra = 'ra_01',\n",
    "dec = 'dec_01',\n",
    "uid = 'count2019_01',\n",
    "name = 'source_name_01_y')\n",
    "\n",
    "# Column identifiers for masers\n",
    "masers_cols = dict(\n",
    "ra = 'RA_(J2000)',\n",
    "dec = 'Dec_(J2000)',\n",
    "uid = 'count2019_01',\n",
    "name = 'source_name_01_y')\n",
    "\n",
    "# print(masers_cols[\"ra\"])"
   ]
  },
  {
   "attachments": {},
   "cell_type": "markdown",
   "metadata": {},
   "source": [
    "## Cleansing the data\n",
    "\n",
    "First, we want to make sure that the data is clean. We will use NED to make sure that each object is in fact unique in its table, as well as we can.\n",
    "If the data has already been cleansed, or if you want to skip cleansing the data, set cleansed_path to the relative path of the data you want to use and set Cleanse_data to False"
   ]
  },
  {
   "cell_type": "code",
   "execution_count": 58,
   "metadata": {},
   "outputs": [],
   "source": [
    "Cleanse_data = True # if true, saved cleansed data will be overwitten. If False, saved data will be loaded and the cleansing process skipped.\n",
    "                    # data is only overrwitten at the end of the cleansing processes, so feel free to abort before then.\n",
    "cleansed_path = './cleansed_data/ConstantinResearchGroup.mcpikeej.allsurveyed_noduplicates_rudmingb.csv'\n"
   ]
  },
  {
   "cell_type": "code",
   "execution_count": 72,
   "metadata": {},
   "outputs": [
    {
     "name": "stdout",
     "output_type": "stream",
     "text": [
      "[5, 33, 37, 51, 92, 106, 158, 200, 204, 216, 220, 258, 276, 299, 374, 432, 450, 452, 544, 601, 659, 673, 686, 748, 792, 824, 932, 1301, 2337, 3194, 3231]\n",
      "32 \"duplicates\" found.\n",
      "Beginning Analysis ...\n",
      "###########################\n",
      "\n",
      "\n",
      "Comparing record [5] (0001419+2329452) against record [6] (UGC12915)...\n",
      "Performing NED Name Search...\n",
      "Name Match Unsuccessful; Human Intervention Required.\n",
      "\n"
     ]
    },
    {
     "data": {
      "application/vnd.jupyter.widget-view+json": {
       "model_id": "ed84801bfb384227a45dbaf5ead5d074",
       "version_major": 2,
       "version_minor": 0
      },
      "text/plain": [
       "VBox(children=(HTML(value='<h1>Object Comparison 1 / 32 </h1>'), HTML(value=''), HTML(value=''), HTML(value=''…"
      ]
     },
     "metadata": {},
     "output_type": "display_data"
    },
    {
     "name": "stdout",
     "output_type": "stream",
     "text": [
      "###########################\n",
      "\n",
      "\n",
      "Comparing record [33] (NGC-21) against record [34] (NGC-29)...\n",
      "Performing NED Name Search...\n",
      "Name Match Successful, this is a duplicate!\n",
      "\n",
      "\n",
      "###########################\n",
      "\n",
      "\n",
      "Comparing record [37] (J0011-0054) against record [38] (001145-005430)...\n",
      "Performing NED Name Search...\n",
      "Name Match Unsuccessful; Human Intervention Required.\n",
      "\n"
     ]
    },
    {
     "data": {
      "application/vnd.jupyter.widget-view+json": {
       "model_id": "da6e6e9d826f430b987f3ecb8ce59aa4",
       "version_major": 2,
       "version_minor": 0
      },
      "text/plain": [
       "VBox(children=(HTML(value='<h1>Object Comparison 3 / 32 </h1>'), HTML(value=''), HTML(value=''), HTML(value=''…"
      ]
     },
     "metadata": {},
     "output_type": "display_data"
    },
    {
     "name": "stdout",
     "output_type": "stream",
     "text": [
      "###########################\n",
      "\n",
      "\n",
      "Comparing record [51] (IRAS00160-0719) against record [52] (2MASXJ00183589-)...\n",
      "Performing NED Name Search...\n",
      "Name Match Unsuccessful; Human Intervention Required.\n",
      "\n"
     ]
    },
    {
     "data": {
      "application/vnd.jupyter.widget-view+json": {
       "model_id": "a48125f140fe49cba6528ad411904d98",
       "version_major": 2,
       "version_minor": 0
      },
      "text/plain": [
       "VBox(children=(HTML(value='<h1>Object Comparison 4 / 32 </h1>'), HTML(value=''), HTML(value=''), HTML(value=''…"
      ]
     },
     "metadata": {},
     "output_type": "display_data"
    },
    {
     "name": "stdout",
     "output_type": "stream",
     "text": [
      "###########################\n",
      "\n",
      "\n",
      "Comparing record [92] (003443-000226) against record [93] (FGC0061)...\n",
      "Performing NED Name Search...\n",
      "Name Match Unsuccessful; Human Intervention Required.\n",
      "\n"
     ]
    },
    {
     "data": {
      "application/vnd.jupyter.widget-view+json": {
       "model_id": "3ee858131f194d7d8c4924089f34daef",
       "version_major": 2,
       "version_minor": 0
      },
      "text/plain": [
       "VBox(children=(HTML(value='<h1>Object Comparison 5 / 32 </h1>'), HTML(value=''), HTML(value=''), HTML(value=''…"
      ]
     },
     "metadata": {},
     "output_type": "display_data"
    },
    {
     "name": "stdout",
     "output_type": "stream",
     "text": [
      "###########################\n",
      "\n",
      "\n",
      "Comparing record [106] (Mrk955) against record [107] (003736+001650)...\n",
      "Performing NED Name Search...\n",
      "Name Match Unsuccessful; Human Intervention Required.\n",
      "\n"
     ]
    },
    {
     "data": {
      "application/vnd.jupyter.widget-view+json": {
       "model_id": "0371402dc3cd4bc0aa4a8c071369a86e",
       "version_major": 2,
       "version_minor": 0
      },
      "text/plain": [
       "VBox(children=(HTML(value='<h1>Object Comparison 6 / 32 </h1>'), HTML(value=''), HTML(value=''), HTML(value=''…"
      ]
     },
     "metadata": {},
     "output_type": "display_data"
    },
    {
     "name": "stdout",
     "output_type": "stream",
     "text": [
      "###########################\n",
      "\n",
      "\n",
      "Comparing record [158] (005329-084604) against record [159] (NGC291)...\n",
      "Performing NED Name Search...\n",
      "Name Match Unsuccessful; Human Intervention Required.\n",
      "\n"
     ]
    },
    {
     "data": {
      "application/vnd.jupyter.widget-view+json": {
       "model_id": "299e098fdf8742239f4e53a563b8d8d4",
       "version_major": 2,
       "version_minor": 0
      },
      "text/plain": [
       "VBox(children=(HTML(value='<h1>Object Comparison 7 / 32 </h1>'), HTML(value=''), HTML(value=''), HTML(value=''…"
      ]
     },
     "metadata": {},
     "output_type": "display_data"
    },
    {
     "name": "stdout",
     "output_type": "stream",
     "text": [
      "###########################\n",
      "\n",
      "\n",
      "Comparing record [200] (HS0106+1304) against record [201] (3C033)...\n",
      "Performing NED Name Search...\n",
      "Name Match Successful, this is a duplicate!\n",
      "\n",
      "\n",
      "###########################\n",
      "\n",
      "\n",
      "Comparing record [204] (J0109-0332) against record [205] (2MASXJ01094510-)...\n",
      "Performing NED Name Search...\n",
      "Name Match Unsuccessful; Human Intervention Required.\n",
      "\n"
     ]
    },
    {
     "data": {
      "application/vnd.jupyter.widget-view+json": {
       "model_id": "fbf7dbbe9db24d21a7d885fe72abf1c5",
       "version_major": 2,
       "version_minor": 0
      },
      "text/plain": [
       "VBox(children=(HTML(value='<h1>Object Comparison 9 / 32 </h1>'), HTML(value=''), HTML(value=''), HTML(value=''…"
      ]
     },
     "metadata": {},
     "output_type": "display_data"
    },
    {
     "name": "stdout",
     "output_type": "stream",
     "text": [
      "###########################\n",
      "\n",
      "\n",
      "Comparing record [216] (MARK975) against record [217] (UGC774)...\n",
      "Performing NED Name Search...\n",
      "Name Match Successful, this is a duplicate!\n",
      "\n",
      "\n",
      "###########################\n",
      "\n",
      "\n",
      "Comparing record [220] (011429+001254) against record [221] (2MASXJ01142985+)...\n",
      "Performing NED Name Search...\n",
      "Name Match Unsuccessful; Human Intervention Required.\n",
      "\n"
     ]
    },
    {
     "data": {
      "application/vnd.jupyter.widget-view+json": {
       "model_id": "b5febc15241b43d4978b80bf7e9e04b1",
       "version_major": 2,
       "version_minor": 0
      },
      "text/plain": [
       "VBox(children=(HTML(value='<h1>Object Comparison 11 / 32 </h1>'), HTML(value=''), HTML(value=''), HTML(value='…"
      ]
     },
     "metadata": {},
     "output_type": "display_data"
    },
    {
     "name": "stdout",
     "output_type": "stream",
     "text": [
      "###########################\n",
      "\n",
      "\n",
      "Comparing record [258] (NGC526a) against record [259] (NGC0526A)...\n",
      "Performing NED Name Search...\n",
      "Name Match Successful, this is a duplicate!\n",
      "\n",
      "\n",
      "###########################\n",
      "\n",
      "\n",
      "Comparing record [276] (012601-041756) against record [277] (J0126-0417)...\n",
      "Performing NED Name Search...\n",
      "Name Match Unsuccessful; Human Intervention Required.\n",
      "\n"
     ]
    },
    {
     "data": {
      "application/vnd.jupyter.widget-view+json": {
       "model_id": "d19ef0961ef84dafa067126ed622a095",
       "version_major": 2,
       "version_minor": 0
      },
      "text/plain": [
       "VBox(children=(HTML(value='<h1>Object Comparison 13 / 32 </h1>'), HTML(value=''), HTML(value=''), HTML(value='…"
      ]
     },
     "metadata": {},
     "output_type": "display_data"
    },
    {
     "name": "stdout",
     "output_type": "stream",
     "text": [
      "###########################\n",
      "\n",
      "\n",
      "Comparing record [299] (013402-010432) against record [300] (UGC-1120)...\n",
      "Performing NED Name Search...\n",
      "Name Match Unsuccessful; Human Intervention Required.\n",
      "\n"
     ]
    },
    {
     "data": {
      "application/vnd.jupyter.widget-view+json": {
       "model_id": "a2e5adf796764d81972ff7cdc0c96725",
       "version_major": 2,
       "version_minor": 0
      },
      "text/plain": [
       "VBox(children=(HTML(value='<h1>Object Comparison 14 / 32 </h1>'), HTML(value=''), HTML(value=''), HTML(value='…"
      ]
     },
     "metadata": {},
     "output_type": "display_data"
    },
    {
     "name": "stdout",
     "output_type": "stream",
     "text": [
      "###########################\n",
      "\n",
      "\n",
      "Comparing record [374] (NGC0708) against record [375] (NGC708)...\n",
      "Performing NED Name Search...\n",
      "Name Match Successful, this is a duplicate!\n",
      "\n",
      "\n",
      "###########################\n",
      "\n",
      "\n",
      "Comparing record [432] (NGC0833) against record [433] (020920-100759)...\n",
      "Performing NED Name Search...\n",
      "Name Match Unsuccessful; Human Intervention Required.\n",
      "\n"
     ]
    },
    {
     "data": {
      "application/vnd.jupyter.widget-view+json": {
       "model_id": "5f95ce3ead5246dca56a604c9695f472",
       "version_major": 2,
       "version_minor": 0
      },
      "text/plain": [
       "VBox(children=(HTML(value='<h1>Object Comparison 16 / 32 </h1>'), HTML(value=''), HTML(value=''), HTML(value='…"
      ]
     },
     "metadata": {},
     "output_type": "display_data"
    },
    {
     "name": "stdout",
     "output_type": "stream",
     "text": [
      "###########################\n",
      "\n",
      "\n",
      "Comparing record [450] (J0214-0016) against record [451] (021405-001637)...\n",
      "Performing NED Name Search...\n",
      "Name Match Unsuccessful; Human Intervention Required.\n",
      "\n"
     ]
    },
    {
     "data": {
      "application/vnd.jupyter.widget-view+json": {
       "model_id": "08f748cd20d24f6298cd4bea234479fd",
       "version_major": 2,
       "version_minor": 0
      },
      "text/plain": [
       "VBox(children=(HTML(value='<h1>Object Comparison 17 / 32 </h1>'), HTML(value=''), HTML(value=''), HTML(value='…"
      ]
     },
     "metadata": {},
     "output_type": "display_data"
    },
    {
     "name": "stdout",
     "output_type": "stream",
     "text": [
      "###########################\n",
      "\n",
      "\n",
      "Comparing record [452] (Mrk590) against record [453] (021433-004600)...\n",
      "Performing NED Name Search...\n",
      "Name Match Unsuccessful; Human Intervention Required.\n",
      "\n"
     ]
    },
    {
     "data": {
      "application/vnd.jupyter.widget-view+json": {
       "model_id": "32ab71c938684f73b926354d1f69caa1",
       "version_major": 2,
       "version_minor": 0
      },
      "text/plain": [
       "VBox(children=(HTML(value='<h1>Object Comparison 18 / 32 </h1>'), HTML(value=''), HTML(value=''), HTML(value='…"
      ]
     },
     "metadata": {},
     "output_type": "display_data"
    },
    {
     "name": "stdout",
     "output_type": "stream",
     "text": [
      "###########################\n",
      "\n",
      "\n",
      "Comparing record [544] (024240-000048) against record [546] (NGC1068test)...\n",
      "Performing NED Name Search...\n",
      "Name Match Unsuccessful; Human Intervention Required.\n",
      "\n"
     ]
    },
    {
     "data": {
      "application/vnd.jupyter.widget-view+json": {
       "model_id": "527d743466db4f7d93dd5533bc62b3fa",
       "version_major": 2,
       "version_minor": 0
      },
      "text/plain": [
       "VBox(children=(HTML(value='<h1>Object Comparison 19 / 32 </h1>'), HTML(value=''), HTML(value=''), HTML(value='…"
      ]
     },
     "metadata": {},
     "output_type": "display_data"
    },
    {
     "name": "stdout",
     "output_type": "stream",
     "text": [
      "###########################\n",
      "\n",
      "\n",
      "Comparing record [601] (NGC1144) against record [602] (NGC1142)...\n",
      "Performing NED Name Search...\n",
      "Name Match Successful, this is a duplicate!\n",
      "\n",
      "\n",
      "###########################\n",
      "\n",
      "\n",
      "Comparing record [659] (031702+011518) against record [660] (UGC02638)...\n",
      "Performing NED Name Search...\n",
      "Name Match Unsuccessful; Human Intervention Required.\n",
      "\n"
     ]
    },
    {
     "data": {
      "application/vnd.jupyter.widget-view+json": {
       "model_id": "fb19c78a77db4969b985c3b4c07d75f5",
       "version_major": 2,
       "version_minor": 0
      },
      "text/plain": [
       "VBox(children=(HTML(value='<h1>Object Comparison 21 / 32 </h1>'), HTML(value=''), HTML(value=''), HTML(value='…"
      ]
     },
     "metadata": {},
     "output_type": "display_data"
    },
    {
     "name": "stdout",
     "output_type": "stream",
     "text": [
      "###########################\n",
      "\n",
      "\n",
      "Comparing record [673] (3C84) against record [674] (NGC1275)...\n",
      "Performing NED Name Search...\n",
      "Name Match Successful, this is a duplicate!\n",
      "\n",
      "\n",
      "###########################\n",
      "\n",
      "\n",
      "Comparing record [686] (032258+000315) against record [687] (032258.0+000315)...\n",
      "Performing NED Name Search...\n",
      "Name Match Unsuccessful; Human Intervention Required.\n",
      "\n"
     ]
    },
    {
     "data": {
      "application/vnd.jupyter.widget-view+json": {
       "model_id": "a98bd32137f7439c9fd9890a209633ad",
       "version_major": 2,
       "version_minor": 0
      },
      "text/plain": [
       "VBox(children=(HTML(value='<h1>Object Comparison 23 / 32 </h1>'), HTML(value=''), HTML(value=''), HTML(value='…"
      ]
     },
     "metadata": {},
     "output_type": "display_data"
    },
    {
     "name": "stdout",
     "output_type": "stream",
     "text": [
      "###########################\n",
      "\n",
      "\n",
      "Comparing record [748] (034545-071526) against record [749] (034545-071527)...\n",
      "Performing NED Name Search...\n",
      "Name Match Unsuccessful; Human Intervention Required.\n",
      "\n"
     ]
    },
    {
     "data": {
      "application/vnd.jupyter.widget-view+json": {
       "model_id": "14951a6114e148ccae6d9895fb791687",
       "version_major": 2,
       "version_minor": 0
      },
      "text/plain": [
       "VBox(children=(HTML(value='<h1>Object Comparison 24 / 32 </h1>'), HTML(value=''), HTML(value=''), HTML(value='…"
      ]
     },
     "metadata": {},
     "output_type": "display_data"
    },
    {
     "name": "stdout",
     "output_type": "stream",
     "text": [
      "###########################\n",
      "\n",
      "\n",
      "Comparing record [792] (0414502+0146013) against record [793] (0414502)...\n",
      "Performing NED Name Search...\n",
      "Name Match Unsuccessful; Human Intervention Required.\n",
      "\n"
     ]
    },
    {
     "data": {
      "application/vnd.jupyter.widget-view+json": {
       "model_id": "c3d3f95892644417a8a55e0b28a49095",
       "version_major": 2,
       "version_minor": 0
      },
      "text/plain": [
       "VBox(children=(HTML(value='<h1>Object Comparison 25 / 32 </h1>'), HTML(value=''), HTML(value=''), HTML(value='…"
      ]
     },
     "metadata": {},
     "output_type": "display_data"
    },
    {
     "name": "stdout",
     "output_type": "stream",
     "text": [
      "###########################\n",
      "\n",
      "\n",
      "Comparing record [824] (J0437+2456) against record [825] (04370366)...\n",
      "Performing NED Name Search...\n",
      "Name Match Unsuccessful; Human Intervention Required.\n",
      "\n"
     ]
    },
    {
     "data": {
      "application/vnd.jupyter.widget-view+json": {
       "model_id": "6b4aaf6d1e774521a02f7cc7f0a24017",
       "version_major": 2,
       "version_minor": 0
      },
      "text/plain": [
       "VBox(children=(HTML(value='<h1>Object Comparison 26 / 32 </h1>'), HTML(value=''), HTML(value=''), HTML(value='…"
      ]
     },
     "metadata": {},
     "output_type": "display_data"
    },
    {
     "name": "stdout",
     "output_type": "stream",
     "text": [
      "###########################\n",
      "\n",
      "\n",
      "Comparing record [932] (EXO055620-3820.) against record [933] (J0558-3820)...\n",
      "Performing NED Name Search...\n",
      "Name Match Unsuccessful; Human Intervention Required.\n",
      "\n"
     ]
    },
    {
     "data": {
      "application/vnd.jupyter.widget-view+json": {
       "model_id": "013e10087bd041e0ad6930263cad03d6",
       "version_major": 2,
       "version_minor": 0
      },
      "text/plain": [
       "VBox(children=(HTML(value='<h1>Object Comparison 27 / 32 </h1>'), HTML(value=''), HTML(value=''), HTML(value='…"
      ]
     },
     "metadata": {},
     "output_type": "display_data"
    },
    {
     "name": "stdout",
     "output_type": "stream",
     "text": [
      "###########################\n",
      "\n",
      "\n",
      "Comparing record [1301] (J0847-0022) against record [1302] (2MASXJ08474769-)...\n",
      "Performing NED Name Search...\n",
      "Name Match Unsuccessful; Human Intervention Required.\n",
      "\n"
     ]
    },
    {
     "data": {
      "application/vnd.jupyter.widget-view+json": {
       "model_id": "7316e61005f54d4593ae15f121622867",
       "version_major": 2,
       "version_minor": 0
      },
      "text/plain": [
       "VBox(children=(HTML(value='<h1>Object Comparison 28 / 32 </h1>'), HTML(value=''), HTML(value=''), HTML(value='…"
      ]
     },
     "metadata": {},
     "output_type": "display_data"
    },
    {
     "name": "stdout",
     "output_type": "stream",
     "text": [
      "###########################\n",
      "\n",
      "\n",
      "Comparing record [2337] (120057+064823) against record [2338] (CGCG041-020)...\n",
      "Performing NED Name Search...\n",
      "Name Match Unsuccessful; Human Intervention Required.\n",
      "\n"
     ]
    },
    {
     "data": {
      "application/vnd.jupyter.widget-view+json": {
       "model_id": "161e05059f044977887b06ee85743d44",
       "version_major": 2,
       "version_minor": 0
      },
      "text/plain": [
       "VBox(children=(HTML(value='<h1>Object Comparison 29 / 32 </h1>'), HTML(value=''), HTML(value=''), HTML(value='…"
      ]
     },
     "metadata": {},
     "output_type": "display_data"
    },
    {
     "name": "stdout",
     "output_type": "stream",
     "text": [
      "###########################\n",
      "\n",
      "\n",
      "Comparing record [3194] (NGC5765b) against record [3195] (NGC5765b-off1)...\n",
      "Performing NED Name Search...\n",
      "Name Match Unsuccessful; Human Intervention Required.\n",
      "\n"
     ]
    },
    {
     "data": {
      "application/vnd.jupyter.widget-view+json": {
       "model_id": "cfb2d8ac71b242339233976c5a1bf45d",
       "version_major": 2,
       "version_minor": 0
      },
      "text/plain": [
       "VBox(children=(HTML(value='<h1>Object Comparison 30 / 32 </h1>'), HTML(value=''), HTML(value=''), HTML(value='…"
      ]
     },
     "metadata": {},
     "output_type": "display_data"
    },
    {
     "name": "stdout",
     "output_type": "stream",
     "text": [
      "###########################\n",
      "\n",
      "\n",
      "Comparing record [3231] (150000+015328) against record [3232] (NGC5806)...\n",
      "Performing NED Name Search...\n",
      "Name Match Unsuccessful; Human Intervention Required.\n",
      "\n"
     ]
    },
    {
     "data": {
      "application/vnd.jupyter.widget-view+json": {
       "model_id": "9e6c2253fda0401fa810a5dfcae56f1e",
       "version_major": 2,
       "version_minor": 0
      },
      "text/plain": [
       "VBox(children=(HTML(value='<h1>Object Comparison 31 / 32 </h1>'), HTML(value=''), HTML(value=''), HTML(value='…"
      ]
     },
     "metadata": {},
     "output_type": "display_data"
    }
   ],
   "source": [
    "from astropy.coordinates import SkyCoord  # High-level coordinates\n",
    "from astropy.coordinates import ICRS, Galactic, FK4, FK5  # Low-level frames\n",
    "from astroquery.ipac.ned import Ned\n",
    "from astropy.table import Table\n",
    "from astropy import units as u\n",
    "from jupyter_ui_poll import ui_events\n",
    "import sys\n",
    "\n",
    "import ipywidgets as widgets\n",
    "from ipywidgets import Button\n",
    "from IPython.display import display\n",
    "from astropy.table import Table\n",
    "\n",
    "def cleanse_data(data,keydict):\n",
    "\n",
    "    \n",
    "    ra_key = keydict['ra']\n",
    "    dec_key = keydict['dec']\n",
    "    uid_key = keydict['uid']\n",
    "    name_key = keydict['name']\n",
    "\n",
    "    # first, get objects to compare; find sets of close objects\n",
    "\n",
    "    ra = data[ra_key].values\n",
    "    dec = data[dec_key].values\n",
    "\n",
    "    coords = SkyCoord(ra*u.deg, dec*u.deg)\n",
    "\n",
    "    # Set the search radius\n",
    "    seplimit = search_radius * u.deg   \n",
    "\n",
    "    # Perform the search within the same dataset\n",
    "    idx1, idx2, sep2d, dist3d = astropy.coordinates.search_around_sky(coords, coords, seplimit)\n",
    "\n",
    "    sep2d = np.round(sep2d.value,decimals=13) * u.deg #the distance calculations gives different digits at around 15 decimals. We will use separation to eliminate double entries, so some rounding is needed\n",
    "    # Filter out self-matching results\n",
    "    mask = sep2d != 0.0 * u.deg\n",
    "    idx1 = idx1[mask]\n",
    "    idx2 = idx2[mask]\n",
    "    sep2d = sep2d[mask]\n",
    "\n",
    "    dupidx = []\n",
    "    dupidx2 = []\n",
    "    dup_sep2d = []\n",
    "\n",
    "    # filter out one result of each double (which has the exact same separation)\n",
    "    for i in range(len(idx1)):\n",
    "        if not(sep2d[i] in dup_sep2d):\n",
    "            dupidx2.insert(len(dupidx2)+1,idx2[i])\n",
    "            dupidx.insert(len(dupidx)+1,idx1[i])\n",
    "            dup_sep2d.insert(len(dup_sep2d)+1,sep2d[i])\n",
    "\n",
    "    print(dupidx)\n",
    "\n",
    "    # for i in range(len(dupidx)):\n",
    "    #     print(f\"Duplicate found: idx1={dupidx[i]}, idx2={dupidx2[i]}, sep2d={dup_sep2d[i]}\")\n",
    "    print(str(len(dupidx)+1) + ' \"duplicates\" found.\\nBeginning Analysis ...')\n",
    "\n",
    "    sep2d = dup_sep2d\n",
    "    ## Now I have a list of duplicates ... idx1 is the first match of the duplicate, idx2 is the second match index of the duplicate, sep2d is the angular separation of the duplicates.\n",
    "    ## Next, I need to determine whether each duplicate is in fact a duplicate or not using NED\n",
    "\n",
    "    is_dup = [] ## this is a flag determining whether I think the match is a dup based on NED data\n",
    "    for i in range(len(dupidx)): \n",
    "        is_dup.insert(i,False) # init with false, we will start with the assumption that a potential duplicate is not a duplicate. If Ned confirms it is, then let it be a duplicate.\n",
    "        \n",
    "        ## step 1: search NED for the two object names. If there is a definite match, then the object is a duplicate. If there is not an obvious match then we will require manual intervention.\n",
    "        idxindata1 = dupidx[i]\n",
    "        idxindata2 = dupidx2[i]\n",
    "\n",
    "\n",
    "        obj1_data = data.iloc[idxindata1]\n",
    "        obj2_data = data.iloc[idxindata2]\n",
    "\n",
    "        obj1_name = obj1_data[name_key]\n",
    "        obj2_name = obj2_data[name_key]\n",
    "\n",
    "        print('###########################\\n\\n')\n",
    "        print(f'Comparing record [{idxindata1}] ({obj1_name}) against record [{idxindata2}] ({obj2_name})...')\n",
    "        print(\"Performing NED Name Search...\")\n",
    "\n",
    "        result_table1, success, msg = query_ned_by_name(obj1_name)\n",
    "        result_table2, success, msg = query_ned_by_name(obj2_name)\n",
    "        finished = False\n",
    "        if type(result_table1)==Table and type(result_table2)==Table:\n",
    "            if len(result_table1) > 0 and len(result_table2) > 0:\n",
    "                if result_table1['Object Name'][0] == result_table2['Object Name'][0]:\n",
    "                    print('Name Match Successful, this is a duplicate!\\n\\n')\n",
    "                    is_dup[i] = True\n",
    "                    finished = True\n",
    "        if not(finished):\n",
    "            print('Name Match Unsuccessful; Human Intervention Required.\\n')\n",
    "\n",
    "            result_table_rad_obj1, success, msg = query_ned_by_coords(obj1_data[ra_key],obj1_data[dec_key], search_radius)\n",
    "            result_table_rad_obj2, success, msg = query_ned_by_coords(obj2_data[ra_key],obj2_data[dec_key], search_radius)\n",
    "\n",
    "            \n",
    "            #########   My UI    ###########\n",
    "            # print(\"        #############################################################\")\n",
    "            # print(\"        #\")\n",
    "            # print(\"        #    Object 1:\")\n",
    "            # print(f\"        #        Name: [{obj1_data[uid_key]}] {obj1_name}\")\n",
    "            # print(f\"        #        RA  : {obj1_data[ra_key]}\")\n",
    "            # print(f\"        #        DEC : {obj1_data[dec_key]}\")\n",
    "            # print(\"        #\")\n",
    "            # print(\"        #############################################################\")\n",
    "            # print(\"        #\")\n",
    "            # print(\"        #    Object 2:\")\n",
    "            # print(f\"        #        Name: [{obj2_data[uid_key]}] {obj2_name}\")\n",
    "            # print(f\"        #        RA  : {obj2_data[ra_key]}\")\n",
    "            # print(f\"        #        DEC : {obj2_data[dec_key]}\")\n",
    "            # print(\"        #\")\n",
    "            # print(\"        #############################################################\")\n",
    "            # print(\"        #\")\n",
    "            # print(\"        #   The Following are results from a NED search around object 1's position:\")\n",
    "            # result_table_rad.pprint(max_lines=-1, max_width=-1)\n",
    "            # print(\"        #\")\n",
    "            # print(\"        #\")\n",
    "            # print(\"        #    Are these two objects duplicates of each other?\")\n",
    "            # userinput = input(\"        #   Enter yes or no or quit: \")\n",
    "            # print(f\"        #        USER ENTERED : {userinput}\")\n",
    "            # if userinput == 'yes':\n",
    "            #     is_dup[i] = True\n",
    "            # if userinput == 'quit':\n",
    "            #     sys.exit(\"Program terminated by user\")\n",
    "            #########   End My UI    ###########\n",
    "\n",
    "            ########  AI Generated User Interface   #########\n",
    "\n",
    "            user_input = ''\n",
    "\n",
    "            # Create GUI widgets\n",
    "            total_obj = str(len(dupidx)+1)\n",
    "            this_obj = str(i+1)\n",
    "            title_widget = widgets.HTML(value=f\"<h1>Object Comparison {this_obj} / {total_obj} </h1>\")\n",
    "            obj1_widget = widgets.HTML()\n",
    "            obj1_rad_search = widgets.HTML()\n",
    "            obj2_widget = widgets.HTML()\n",
    "            obj2_rad_search = widgets.HTML()\n",
    "            question_widget = widgets.HTML(value=\"<h3>Are these two objects duplicates of each other?</h3>\")\n",
    "            button_yes = widgets.Button(description='Yes')\n",
    "            button_no = widgets.Button(description='No')\n",
    "            button_quit = widgets.Button(description='Quit')\n",
    "            waiting_widget = widgets.HTML(value=\"<h3>\\</h3>\")\n",
    "\n",
    "\n",
    "            # Create layout for the widgets\n",
    "            container = widgets.VBox([\n",
    "                title_widget,\n",
    "                obj1_widget,\n",
    "                obj1_rad_search,\n",
    "                obj2_widget,\n",
    "                obj2_rad_search,\n",
    "                question_widget,\n",
    "                widgets.HBox([button_yes, button_no, button_quit]),\n",
    "                waiting_widget\n",
    "            ])\n",
    "\n",
    "            # Display the GUI\n",
    "            display(container)\n",
    "\n",
    "            # Event handlers for button clicks\n",
    "            def on_yes_clicked(b):\n",
    "                nonlocal user_input\n",
    "                user_input = 'yes'\n",
    "                b.desciption = 'yes 👍'\n",
    "\n",
    "            def on_no_clicked(b):\n",
    "                nonlocal user_input\n",
    "                user_input = 'no'\n",
    "                b.desciption = 'no 👍'\n",
    "\n",
    "            def on_quit_clicked(b):\n",
    "                global user_input\n",
    "                user_input = 'quit'\n",
    "\n",
    "            # Assign event handlers to buttons\n",
    "            button_yes.on_click(on_yes_clicked)\n",
    "            button_no.on_click(on_no_clicked)\n",
    "            button_quit.on_click(on_quit_clicked)\n",
    "\n",
    "            # Update the widgets with the information\n",
    "            obj1_widget.value = f\"<h3>Object 1 (from our Data table):<br>Name: [{obj1_data[uid_key]}] {obj1_name}<br>RA: {obj1_data[ra_key]}<br>DEC: {obj1_data[dec_key]}</p>\"\n",
    "            obj1_rad_search.value = f\"<p>The Following are results from a NED search around object 1's position with radius of the search_radius:</p>{result_table_rad_obj1._repr_html_()}\"\n",
    "\n",
    "            obj2_widget.value = f\"<h3>Object 2:<br>Name: [{obj2_data[uid_key]}] {obj2_name}<br>RA: {obj2_data[ra_key]}<br>DEC: {obj2_data[dec_key]}</p>\"\n",
    "            obj2_rad_search.value = f\"<p>The Following are results from a NED search around object 2's position with radius of the search_radius:</p>{result_table_rad_obj2._repr_html_()}\"\n",
    "\n",
    "            waiting_icons = ['-','\\\\','|','/']\n",
    "            j = 0\n",
    "            # # Disable execution until a button is clicked\n",
    "            with ui_events() as poll:\n",
    "                while user_input == '':\n",
    "                    poll(10)          # React to UI events (upto 10 at a time)\n",
    "                    if user_input == '':\n",
    "                        waiting_widget.value = \"<h3>\"+ waiting_icons[j]+\"</h3>\"\n",
    "                        j+=1\n",
    "                        if j==4:\n",
    "                            j=0\n",
    "                        time.sleep(0.1)\n",
    "\n",
    "\n",
    "            if user_input == 'yes':\n",
    "                is_dup[i] = True\n",
    "            if user_input == 'quit':\n",
    "                sys.exit(\"Program terminated by user\")\n",
    "            button_yes.disabled = True\n",
    "            button_no.disabled = True\n",
    "            button_quit.disabled = True\n",
    "            waiting_widget.value = 'User entered:'+ user_input\n",
    "\n",
    "\n",
    "\n",
    "            ########  End AI Generated User Interface   #########\n",
    "\n",
    "    \n",
    "    # Still need to save and return the cleaned data. Also, if there is exactly 1 object returned by the NED search, is it safe to assume it is a duplicate?\n",
    "\n",
    "    # create a new cleansed dataset\n",
    "\n",
    "    new_rows = []\n",
    "\n",
    "    for idxofdata, row in data.iterrows():\n",
    "        insert_data = False\n",
    "        if not(idxofdata in dupidx) and not(idxofdata in dupidx2):\n",
    "            insert_data = True\n",
    "        else:\n",
    "            if idxofdata in dupidx:\n",
    "                idxofduprecord = dupidx.index(idxofdata)\n",
    "            if idxofdata in dupidx2:\n",
    "                idxofduprecord = dupidx2.index(idxofdata)\n",
    "            dup_record_is_dup = is_dup[idxofduprecord]\n",
    "            if dup_record_is_dup and idxofdata in dupidx:\n",
    "                insert_data = True\n",
    "            if not(dup_record_is_dup):\n",
    "                insert_data = True\n",
    "        if insert_data:\n",
    "            new_rows.append(row)\n",
    "    \n",
    "    cleansed_data = pd.DataFrame(new_rows)\n",
    "\n",
    "    return cleansed_data\n",
    "\n",
    "\n",
    "\n",
    " \n",
    "\n",
    "        \n",
    "if Cleanse_data:\n",
    "    cleansed_data = cleanse_data(all_surveyed,all_surveyed_cols)\n",
    "    cleansed_data.to_csv(cleansed_path, index=False)\n",
    "    print('\\n\\nSaved cleansed data to '+cleansed_path)\n",
    "    print('Be sure to change Cleanse_Data to False next time!')\n",
    "else:\n",
    "    cleansed_data = pd.read_csv(cleansed_path)\n",
    "    print('Cleansing Skipped, and Cleansed data loaded from '+cleansed_path)\n",
    "\n",
    "    \n",
    "\n",
    "# else\n"
   ]
  },
  {
   "attachments": {},
   "cell_type": "markdown",
   "metadata": {},
   "source": [
    "##  "
   ]
  }
 ],
 "metadata": {
  "kernelspec": {
   "display_name": "Python 3",
   "language": "python",
   "name": "python3"
  },
  "language_info": {
   "codemirror_mode": {
    "name": "ipython",
    "version": 3
   },
   "file_extension": ".py",
   "mimetype": "text/x-python",
   "name": "python",
   "nbconvert_exporter": "python",
   "pygments_lexer": "ipython3",
   "version": "3.8.5"
  },
  "orig_nbformat": 4
 },
 "nbformat": 4,
 "nbformat_minor": 2
}
