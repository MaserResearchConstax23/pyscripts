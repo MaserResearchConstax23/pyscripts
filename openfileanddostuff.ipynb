{
 "cells": [
  {
   "cell_type": "code",
   "execution_count": null,
   "metadata": {},
   "outputs": [],
   "source": [
    "DataPath = './data/AllSurveyed2021_NoDup_rudmingb.csv'\n",
    "\n",
    "with open(DataPath) as file:\n",
    "    lines = file.readlines()\n",
    "\n"
   ]
  }
 ],
 "metadata": {
  "language_info": {
   "name": "python"
  },
  "orig_nbformat": 4
 },
 "nbformat": 4,
 "nbformat_minor": 2
}
