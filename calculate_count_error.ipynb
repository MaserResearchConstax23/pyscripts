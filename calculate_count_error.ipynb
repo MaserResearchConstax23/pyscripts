{
 "cells": [
  {
   "cell_type": "code",
   "execution_count": 9,
   "metadata": {},
   "outputs": [
    {
     "name": "stdout",
     "output_type": "stream",
     "text": [
      "0.17371910221568257\n",
      "0.222 +/- 0.174\n",
      "22.2% +/- 17.4%\n"
     ]
    }
   ],
   "source": [
    "import math\n",
    "def div_error(x,y):\n",
    "    return (x/y) * (math.sqrt((1/x)+(1/y)))\n",
    "\n",
    "x,y=2,9\n",
    "print(div_error(x,y))\n",
    "print(str(round(x/y,3))+\" +/- \"+str(round(div_error(x,y),3)))\n",
    "print(str(round(round(x/y,3)*100,1))+\"% +/- \"+str(round(round(div_error(x,y),3)*100,1))+\"%\")"
   ]
  }
 ],
 "metadata": {
  "kernelspec": {
   "display_name": "base",
   "language": "python",
   "name": "python3"
  },
  "language_info": {
   "codemirror_mode": {
    "name": "ipython",
    "version": 3
   },
   "file_extension": ".py",
   "mimetype": "text/x-python",
   "name": "python",
   "nbconvert_exporter": "python",
   "pygments_lexer": "ipython3",
   "version": "3.8.5"
  },
  "orig_nbformat": 4
 },
 "nbformat": 4,
 "nbformat_minor": 2
}
