{
 "cells": [
  {
   "cell_type": "code",
   "execution_count": null,
   "metadata": {},
   "outputs": [],
   "source": [
    "!pip install ipywidgets\n",
    "!pip install pandas\n",
    "!pip install astropy\n",
    "!pip install numpy\n",
    "!pip install jupyter_ui_poll\n"
   ]
  },
  {
   "cell_type": "code",
   "execution_count": null,
   "metadata": {},
   "outputs": [],
   "source": [
    "## SETTINGS\n",
    "\n",
    "search_radius = 1/3600.0 #in degrees"
   ]
  },
  {
   "cell_type": "code",
   "execution_count": null,
   "metadata": {},
   "outputs": [],
   "source": [
    "import math\n",
    "import numpy as np\n",
    "import pandas as pd\n",
    "import astropy\n",
    "\n",
    "\n",
    "import astroquery\n",
    "from astroquery.ipac.ned import Ned\n",
    "import pandas as pd\n",
    "\n",
    "def query_ned_by_name(name):\n",
    "    result_table = None\n",
    "    success = False\n",
    "    msg = \"Match Found!\"\n",
    "    try:\n",
    "        result_table = Ned.query_object(name) #astropy.table.Table\n",
    "        success = True\n",
    "    except astroquery.exceptions.RemoteServiceError as error:\n",
    "        msg = error\n",
    "    except Exception as error:\n",
    "        msg = error\n",
    "    return result_table, success, msg\n",
    "\n",
    "\n",
    "def query_ned_by_coords(pass_ra, pass_dec, pass_radius): # uses deg\n",
    "    result_table = None\n",
    "    success = False\n",
    "    msg = \"Match Found!\"\n",
    "    try:\n",
    "\n",
    "        position = SkyCoord(ra=pass_ra, dec=pass_dec, unit=(u.deg, u.deg), frame='icrs')\n",
    "        result_table = Ned.query_region(position, radius=pass_radius * u.deg)\n",
    "        success = True\n",
    "    except astroquery.exceptions.RemoteServiceError as error:\n",
    "        msg = error\n",
    "    except Exception as error:\n",
    "        msg = error\n",
    "    return result_table, success, msg\n",
    "\n",
    "\n",
    "\n",
    "def is_within_rad(ra_1, ra_2, dec_1, dec_2): # not used, astropy's function is used.\n",
    "    return (search_rad) > (math.sqrt((math.pow((((ra_1 * (math.pi / 180.0)) - (ra_2 * (math.pi / 180.0))) * (math.cos((dec_1 * (math.pi / 180.0))))), 2)) + math.pow(((dec_1 * (math.pi / 180.0)) - (dec_2 * (math.pi / 180.0))), 2))) * (180.0 / math.pi)\n",
    "\n",
    "\n",
    "\n",
    "# load csv files\n",
    "all_surveyed_path = './data/mcpikeej_nonmasers_noduplicates_rudmingb.csv'\n",
    "\n",
    "all_surveyed = pd.read_csv(all_surveyed_path)\n",
    "\n",
    "\n",
    "\n"
   ]
  },
  {
   "attachments": {},
   "cell_type": "markdown",
   "metadata": {},
   "source": [
    "## All Surveyed Data Sample: "
   ]
  },
  {
   "cell_type": "code",
   "execution_count": null,
   "metadata": {},
   "outputs": [],
   "source": [
    "print(all_surveyed)"
   ]
  },
  {
   "attachments": {},
   "cell_type": "markdown",
   "metadata": {},
   "source": [
    "## Column Identifiers\n",
    "Use the data sample to record the relevant column headers "
   ]
  },
  {
   "cell_type": "code",
   "execution_count": null,
   "metadata": {},
   "outputs": [],
   "source": [
    "## create a key-lookup table\n",
    "# Column identifiers for all_surveyed\n",
    "all_surveyed_cols = dict(\n",
    "ra = 'ra',\n",
    "dec = 'dec',\n",
    "uid = 'count2019_01',\n",
    "name = 'sourcename')"
   ]
  },
  {
   "attachments": {},
   "cell_type": "markdown",
   "metadata": {},
   "source": [
    "## Cleansing the data\n",
    "\n",
    "We want to make sure that the data is clean. We will use NED to make sure that each object is in fact unique in its table, as well as we can.\n",
    "\n",
    "After starting this cell, scroll down and interact with the dialogs that pop up to confirm data removal choices."
   ]
  },
  {
   "cell_type": "code",
   "execution_count": 13,
   "metadata": {},
   "outputs": [
    {
     "name": "stdout",
     "output_type": "stream",
     "text": [
      "[5, 32, 48, 89, 103, 193, 208, 212, 249, 288, 362, 420, 439, 529, 584, 640, 654, 667, 727, 733, 769, 900, 1809, 2270, 3130, 3824]\n",
      "27 \"duplicates\" found.\n",
      "Beginning Analysis ...\n",
      "###########################\n",
      "\n",
      "\n",
      "Comparing record [7] (0001419+2329452) against record [8] (UGC12915)...\n",
      "Performing NED Name Search...\n",
      "Name Match Unsuccessful.\n",
      "\n"
     ]
    },
    {
     "data": {
      "application/vnd.jupyter.widget-view+json": {
       "model_id": "6c660b578f2f456ea6e95a2816248135",
       "version_major": 2,
       "version_minor": 0
      },
      "text/plain": [
       "VBox(children=(HTML(value='<h1>Object Comparison 1 / 27 </h4>'), HTML(value=''), HTML(value=''), HTML(value=''…"
      ]
     },
     "metadata": {},
     "output_type": "display_data"
    },
    {
     "name": "stdout",
     "output_type": "stream",
     "text": [
      "###########################\n",
      "\n",
      "\n",
      "Comparing record [48] (NGC-21) against record [49] (NGC-29)...\n",
      "Performing NED Name Search...\n",
      "Name Match Successful, this is a duplicate!\n",
      "\n",
      "\n"
     ]
    },
    {
     "data": {
      "application/vnd.jupyter.widget-view+json": {
       "model_id": "84502e02a8c447d89f7d6d62aa403224",
       "version_major": 2,
       "version_minor": 0
      },
      "text/plain": [
       "VBox(children=(HTML(value='<h4>Object Comparison 2 / 27 </h4>'), HTML(value=''), HTML(value=''), HTML(value='<…"
      ]
     },
     "metadata": {},
     "output_type": "display_data"
    },
    {
     "name": "stdout",
     "output_type": "stream",
     "text": [
      "###########################\n",
      "\n",
      "\n",
      "Comparing record [76] (IRAS00160-0719) against record [77] (2MASXJ00183589-)...\n",
      "Performing NED Name Search...\n",
      "Name Match Unsuccessful.\n",
      "\n"
     ]
    },
    {
     "data": {
      "application/vnd.jupyter.widget-view+json": {
       "model_id": "a78d1ac0b83643fe8fb2d4a1dcc152b0",
       "version_major": 2,
       "version_minor": 0
      },
      "text/plain": [
       "VBox(children=(HTML(value='<h1>Object Comparison 3 / 27 </h4>'), HTML(value=''), HTML(value=''), HTML(value=''…"
      ]
     },
     "metadata": {},
     "output_type": "display_data"
    },
    {
     "name": "stdout",
     "output_type": "stream",
     "text": [
      "###########################\n",
      "\n",
      "\n",
      "Comparing record [131] (003443-000226) against record [132] (FGC0061)...\n",
      "Performing NED Name Search...\n",
      "Name Match Unsuccessful.\n",
      "\n"
     ]
    },
    {
     "data": {
      "application/vnd.jupyter.widget-view+json": {
       "model_id": "25821219865c48bd86d938f4446a8040",
       "version_major": 2,
       "version_minor": 0
      },
      "text/plain": [
       "VBox(children=(HTML(value='<h1>Object Comparison 4 / 27 </h4>'), HTML(value=''), HTML(value=''), HTML(value=''…"
      ]
     },
     "metadata": {},
     "output_type": "display_data"
    },
    {
     "name": "stdout",
     "output_type": "stream",
     "text": [
      "###########################\n",
      "\n",
      "\n",
      "Comparing record [148] (Mrk955) against record [149] (003736+001650)...\n",
      "Performing NED Name Search...\n",
      "Name Match Unsuccessful.\n",
      "\n"
     ]
    },
    {
     "data": {
      "application/vnd.jupyter.widget-view+json": {
       "model_id": "a4f886ea62f24ce39ad2d7cab35c3bc8",
       "version_major": 2,
       "version_minor": 0
      },
      "text/plain": [
       "VBox(children=(HTML(value='<h1>Object Comparison 5 / 27 </h4>'), HTML(value=''), HTML(value=''), HTML(value=''…"
      ]
     },
     "metadata": {},
     "output_type": "display_data"
    },
    {
     "name": "stdout",
     "output_type": "stream",
     "text": [
      "###########################\n",
      "\n",
      "\n",
      "Comparing record [269] (HS0106+1304) against record [270] (3C033)...\n",
      "Performing NED Name Search...\n",
      "Name Match Successful, this is a duplicate!\n",
      "\n",
      "\n"
     ]
    },
    {
     "data": {
      "application/vnd.jupyter.widget-view+json": {
       "model_id": "c1cae83f06c64526a4443539720d3638",
       "version_major": 2,
       "version_minor": 0
      },
      "text/plain": [
       "VBox(children=(HTML(value='<h4>Object Comparison 6 / 27 </h4>'), HTML(value=''), HTML(value=''), HTML(value='<…"
      ]
     },
     "metadata": {},
     "output_type": "display_data"
    },
    {
     "name": "stdout",
     "output_type": "stream",
     "text": [
      "###########################\n",
      "\n",
      "\n",
      "Comparing record [293] (MARK975) against record [294] (UGC774)...\n",
      "Performing NED Name Search...\n",
      "Name Match Successful, this is a duplicate!\n",
      "\n",
      "\n"
     ]
    },
    {
     "data": {
      "application/vnd.jupyter.widget-view+json": {
       "model_id": "d9cf274ee14344fa931a3790a7e2b2f9",
       "version_major": 2,
       "version_minor": 0
      },
      "text/plain": [
       "VBox(children=(HTML(value='<h4>Object Comparison 7 / 27 </h4>'), HTML(value=''), HTML(value=''), HTML(value='<…"
      ]
     },
     "metadata": {},
     "output_type": "display_data"
    },
    {
     "name": "stdout",
     "output_type": "stream",
     "text": [
      "###########################\n",
      "\n",
      "\n",
      "Comparing record [299] (011429+001254) against record [300] (2MASXJ01142985+)...\n",
      "Performing NED Name Search...\n",
      "Name Match Unsuccessful.\n",
      "\n"
     ]
    },
    {
     "data": {
      "application/vnd.jupyter.widget-view+json": {
       "model_id": "59f001a95ced4d708659c0ff946d28a7",
       "version_major": 2,
       "version_minor": 0
      },
      "text/plain": [
       "VBox(children=(HTML(value='<h1>Object Comparison 8 / 27 </h4>'), HTML(value=''), HTML(value=''), HTML(value=''…"
      ]
     },
     "metadata": {},
     "output_type": "display_data"
    },
    {
     "name": "stdout",
     "output_type": "stream",
     "text": [
      "###########################\n",
      "\n",
      "\n",
      "Comparing record [356] (NGC526a) against record [357] (NGC0526A)...\n",
      "Performing NED Name Search...\n",
      "Name Match Successful, this is a duplicate!\n",
      "\n",
      "\n"
     ]
    },
    {
     "data": {
      "application/vnd.jupyter.widget-view+json": {
       "model_id": "a6e03b680b2645399535dfd904e3f828",
       "version_major": 2,
       "version_minor": 0
      },
      "text/plain": [
       "VBox(children=(HTML(value='<h4>Object Comparison 9 / 27 </h4>'), HTML(value=''), HTML(value=''), HTML(value='<…"
      ]
     },
     "metadata": {},
     "output_type": "display_data"
    },
    {
     "name": "stdout",
     "output_type": "stream",
     "text": [
      "###########################\n",
      "\n",
      "\n",
      "Comparing record [429] (013402-010432) against record [430] (UGC-1120)...\n",
      "Performing NED Name Search...\n",
      "Name Match Unsuccessful.\n",
      "\n"
     ]
    },
    {
     "data": {
      "application/vnd.jupyter.widget-view+json": {
       "model_id": "8f3c8cc0e84841d5afbe5eab2d2ffca9",
       "version_major": 2,
       "version_minor": 0
      },
      "text/plain": [
       "VBox(children=(HTML(value='<h1>Object Comparison 10 / 27 </h4>'), HTML(value=''), HTML(value=''), HTML(value='…"
      ]
     },
     "metadata": {},
     "output_type": "display_data"
    },
    {
     "name": "stdout",
     "output_type": "stream",
     "text": [
      "###########################\n",
      "\n",
      "\n",
      "Comparing record [521] (NGC0708) against record [522] (NGC708)...\n",
      "Performing NED Name Search...\n",
      "Name Match Successful, this is a duplicate!\n",
      "\n",
      "\n"
     ]
    },
    {
     "data": {
      "application/vnd.jupyter.widget-view+json": {
       "model_id": "afdae905cc4944a398dd0d0338df3425",
       "version_major": 2,
       "version_minor": 0
      },
      "text/plain": [
       "VBox(children=(HTML(value='<h4>Object Comparison 11 / 27 </h4>'), HTML(value=''), HTML(value=''), HTML(value='…"
      ]
     },
     "metadata": {},
     "output_type": "display_data"
    },
    {
     "name": "stdout",
     "output_type": "stream",
     "text": [
      "###########################\n",
      "\n",
      "\n",
      "Comparing record [601] (NGC0833) against record [602] (020920-100759)...\n",
      "Performing NED Name Search...\n",
      "Name Match Unsuccessful.\n",
      "\n"
     ]
    },
    {
     "data": {
      "application/vnd.jupyter.widget-view+json": {
       "model_id": "00b42a83ba3d42f79cdbbf482e8eb1bb",
       "version_major": 2,
       "version_minor": 0
      },
      "text/plain": [
       "VBox(children=(HTML(value='<h1>Object Comparison 12 / 27 </h4>'), HTML(value=''), HTML(value=''), HTML(value='…"
      ]
     },
     "metadata": {},
     "output_type": "display_data"
    },
    {
     "name": "stdout",
     "output_type": "stream",
     "text": [
      "###########################\n",
      "\n",
      "\n",
      "Comparing record [628] (Mrk590) against record [629] (021433-004600)...\n",
      "Performing NED Name Search...\n",
      "Name Match Unsuccessful.\n",
      "\n"
     ]
    },
    {
     "data": {
      "application/vnd.jupyter.widget-view+json": {
       "model_id": "e2b5bc7a348f4b9684f3d4cf6fe82b46",
       "version_major": 2,
       "version_minor": 0
      },
      "text/plain": [
       "VBox(children=(HTML(value='<h1>Object Comparison 13 / 27 </h4>'), HTML(value=''), HTML(value=''), HTML(value='…"
      ]
     },
     "metadata": {},
     "output_type": "display_data"
    },
    {
     "name": "stdout",
     "output_type": "stream",
     "text": [
      "###########################\n",
      "\n",
      "\n",
      "Comparing record [774] (024240-000048) against record [779] (NGC1068test)...\n",
      "Performing NED Name Search...\n",
      "Name Match Unsuccessful.\n",
      "\n"
     ]
    },
    {
     "data": {
      "application/vnd.jupyter.widget-view+json": {
       "model_id": "2f11ca4c59944148b6d47aa66576b4e1",
       "version_major": 2,
       "version_minor": 0
      },
      "text/plain": [
       "VBox(children=(HTML(value='<h1>Object Comparison 14 / 27 </h4>'), HTML(value=''), HTML(value=''), HTML(value='…"
      ]
     },
     "metadata": {},
     "output_type": "display_data"
    },
    {
     "name": "stdout",
     "output_type": "stream",
     "text": [
      "###########################\n",
      "\n",
      "\n",
      "Comparing record [851] (NGC1144) against record [852] (NGC1142)...\n",
      "Performing NED Name Search...\n",
      "Name Match Successful, this is a duplicate!\n",
      "\n",
      "\n"
     ]
    },
    {
     "data": {
      "application/vnd.jupyter.widget-view+json": {
       "model_id": "7d1a170299ff4d3390dddf881ae82771",
       "version_major": 2,
       "version_minor": 0
      },
      "text/plain": [
       "VBox(children=(HTML(value='<h4>Object Comparison 15 / 27 </h4>'), HTML(value=''), HTML(value=''), HTML(value='…"
      ]
     },
     "metadata": {},
     "output_type": "display_data"
    },
    {
     "name": "stdout",
     "output_type": "stream",
     "text": [
      "###########################\n",
      "\n",
      "\n",
      "Comparing record [996] (031702+011518) against record [997] (UGC02638)...\n",
      "Performing NED Name Search...\n",
      "Name Match Unsuccessful.\n",
      "\n"
     ]
    },
    {
     "data": {
      "application/vnd.jupyter.widget-view+json": {
       "model_id": "c8a896d009f34b6c9cea1d6e6f4a5fd7",
       "version_major": 2,
       "version_minor": 0
      },
      "text/plain": [
       "VBox(children=(HTML(value='<h1>Object Comparison 16 / 27 </h4>'), HTML(value=''), HTML(value=''), HTML(value='…"
      ]
     },
     "metadata": {},
     "output_type": "display_data"
    },
    {
     "name": "stdout",
     "output_type": "stream",
     "text": [
      "###########################\n",
      "\n",
      "\n",
      "Comparing record [1012] (3C84) against record [1015] (NGC1275)...\n",
      "Performing NED Name Search...\n",
      "Name Match Successful, this is a duplicate!\n",
      "\n",
      "\n"
     ]
    },
    {
     "data": {
      "application/vnd.jupyter.widget-view+json": {
       "model_id": "0933903e90204ec0aef235987b271b61",
       "version_major": 2,
       "version_minor": 0
      },
      "text/plain": [
       "VBox(children=(HTML(value='<h4>Object Comparison 17 / 27 </h4>'), HTML(value=''), HTML(value=''), HTML(value='…"
      ]
     },
     "metadata": {},
     "output_type": "display_data"
    },
    {
     "name": "stdout",
     "output_type": "stream",
     "text": [
      "###########################\n",
      "\n",
      "\n",
      "Comparing record [1032] (032258+000315) against record [1033] (032258.0+000315)...\n",
      "Performing NED Name Search...\n",
      "Name Match Unsuccessful.\n",
      "\n"
     ]
    },
    {
     "data": {
      "application/vnd.jupyter.widget-view+json": {
       "model_id": "f72beb5c8bbd4fd0a71db27c30c64340",
       "version_major": 2,
       "version_minor": 0
      },
      "text/plain": [
       "VBox(children=(HTML(value='<h1>Object Comparison 18 / 27 </h4>'), HTML(value=''), HTML(value=''), HTML(value='…"
      ]
     },
     "metadata": {},
     "output_type": "display_data"
    },
    {
     "name": "stdout",
     "output_type": "stream",
     "text": [
      "###########################\n",
      "\n",
      "\n",
      "Comparing record [1149] (034545-071526) against record [1150] (034545-071527)...\n",
      "Performing NED Name Search...\n",
      "Name Match Unsuccessful.\n",
      "\n"
     ]
    },
    {
     "data": {
      "application/vnd.jupyter.widget-view+json": {
       "model_id": "2c81c144d9ad4402b4fda0abad8b6ccc",
       "version_major": 2,
       "version_minor": 0
      },
      "text/plain": [
       "VBox(children=(HTML(value='<h1>Object Comparison 19 / 27 </h4>'), HTML(value=''), HTML(value=''), HTML(value='…"
      ]
     },
     "metadata": {},
     "output_type": "display_data"
    },
    {
     "name": "stdout",
     "output_type": "stream",
     "text": [
      "###########################\n",
      "\n",
      "\n",
      "Comparing record [1157] (0350003-0127577) against record [1158] (0350003)...\n",
      "Performing NED Name Search...\n",
      "Name Match Unsuccessful.\n",
      "\n"
     ]
    },
    {
     "data": {
      "application/vnd.jupyter.widget-view+json": {
       "model_id": "fe62d271f7a14402ad8c8ad65e4dafff",
       "version_major": 2,
       "version_minor": 0
      },
      "text/plain": [
       "VBox(children=(HTML(value='<h1>Object Comparison 20 / 27 </h4>'), HTML(value=''), HTML(value=''), HTML(value='…"
      ]
     },
     "metadata": {},
     "output_type": "display_data"
    },
    {
     "name": "stdout",
     "output_type": "stream",
     "text": [
      "###########################\n",
      "\n",
      "\n",
      "Comparing record [1208] (0414502+0146013) against record [1209] (0414502)...\n",
      "Performing NED Name Search...\n",
      "Name Match Unsuccessful.\n",
      "\n"
     ]
    },
    {
     "data": {
      "application/vnd.jupyter.widget-view+json": {
       "model_id": "fad865f826d94d0795ecaa77edd807bb",
       "version_major": 2,
       "version_minor": 0
      },
      "text/plain": [
       "VBox(children=(HTML(value='<h1>Object Comparison 21 / 27 </h4>'), HTML(value=''), HTML(value=''), HTML(value='…"
      ]
     },
     "metadata": {},
     "output_type": "display_data"
    },
    {
     "name": "stdout",
     "output_type": "stream",
     "text": [
      "###########################\n",
      "\n",
      "\n",
      "Comparing record [1442] (EXO055620-3820.) against record [1443] (J0558-3820)...\n",
      "Performing NED Name Search...\n",
      "Name Match Unsuccessful.\n",
      "\n"
     ]
    },
    {
     "data": {
      "application/vnd.jupyter.widget-view+json": {
       "model_id": "17741c81ccb64d3bbc9aac1da4b2cf0a",
       "version_major": 2,
       "version_minor": 0
      },
      "text/plain": [
       "VBox(children=(HTML(value='<h1>Object Comparison 22 / 27 </h4>'), HTML(value=''), HTML(value=''), HTML(value='…"
      ]
     },
     "metadata": {},
     "output_type": "display_data"
    },
    {
     "name": "stdout",
     "output_type": "stream",
     "text": [
      "###########################\n",
      "\n",
      "\n",
      "Comparing record [2979] (UGC5772) against record [2980] (J103657+001347)...\n",
      "Performing NED Name Search...\n",
      "Name Match Unsuccessful.\n",
      "\n"
     ]
    },
    {
     "data": {
      "application/vnd.jupyter.widget-view+json": {
       "model_id": "82a40de1ca5e4d918e5f38abce8eed01",
       "version_major": 2,
       "version_minor": 0
      },
      "text/plain": [
       "VBox(children=(HTML(value='<h1>Object Comparison 23 / 27 </h4>'), HTML(value=''), HTML(value=''), HTML(value='…"
      ]
     },
     "metadata": {},
     "output_type": "display_data"
    },
    {
     "name": "stdout",
     "output_type": "stream",
     "text": [
      "###########################\n",
      "\n",
      "\n",
      "Comparing record [3647] (120057+064823) against record [3648] (CGCG041-020)...\n",
      "Performing NED Name Search...\n",
      "Name Match Unsuccessful.\n",
      "\n"
     ]
    },
    {
     "data": {
      "application/vnd.jupyter.widget-view+json": {
       "model_id": "713d832e82c04b5aaeed3ae063b67c3d",
       "version_major": 2,
       "version_minor": 0
      },
      "text/plain": [
       "VBox(children=(HTML(value='<h1>Object Comparison 24 / 27 </h4>'), HTML(value=''), HTML(value=''), HTML(value='…"
      ]
     },
     "metadata": {},
     "output_type": "display_data"
    },
    {
     "name": "stdout",
     "output_type": "stream",
     "text": [
      "###########################\n",
      "\n",
      "\n",
      "Comparing record [4962] (150000+015328) against record [4963] (NGC5806)...\n",
      "Performing NED Name Search...\n",
      "Name Match Unsuccessful.\n",
      "\n"
     ]
    },
    {
     "data": {
      "application/vnd.jupyter.widget-view+json": {
       "model_id": "8921672b3a3d4788af59c0d09fb88515",
       "version_major": 2,
       "version_minor": 0
      },
      "text/plain": [
       "VBox(children=(HTML(value='<h1>Object Comparison 25 / 27 </h4>'), HTML(value=''), HTML(value=''), HTML(value='…"
      ]
     },
     "metadata": {},
     "output_type": "display_data"
    },
    {
     "name": "stdout",
     "output_type": "stream",
     "text": [
      "###########################\n",
      "\n",
      "\n",
      "Comparing record [5946] (Mrk516) against record [5947] (MRK0516)...\n",
      "Performing NED Name Search...\n",
      "Name Match Successful, this is a duplicate!\n",
      "\n",
      "\n"
     ]
    },
    {
     "data": {
      "application/vnd.jupyter.widget-view+json": {
       "model_id": "8acbcd10a2c64d5dbcdef4d89b7137e1",
       "version_major": 2,
       "version_minor": 0
      },
      "text/plain": [
       "VBox(children=(HTML(value='<h4>Object Comparison 26 / 27 </h4>'), HTML(value=''), HTML(value=''), HTML(value='…"
      ]
     },
     "metadata": {},
     "output_type": "display_data"
    },
    {
     "name": "stdout",
     "output_type": "stream",
     "text": [
      "\n",
      "\n",
      "Saved cleansed data to ./cleansed_data/mcpikeej_nonmasers_noduplicates_rudmingb_cleansed.csv\n"
     ]
    }
   ],
   "source": [
    "cleansed_path = './cleansed_data/mcpikeej_nonmasers_noduplicates_rudmingb_cleansed.csv'\n",
    "Ask_for_all = True # Even if a name match is automatically found, enabling this allows you to choose which of the duplicates to keep for *every* duplicate\n",
    "\n",
    "\n",
    "\n",
    "from astropy.coordinates import SkyCoord  # High-level coordinates\n",
    "from astropy.coordinates import ICRS, Galactic, FK4, FK5  # Low-level frames\n",
    "from astroquery.ipac.ned import Ned\n",
    "from astropy.table import Table\n",
    "from astropy import units as u\n",
    "from jupyter_ui_poll import ui_events\n",
    "import sys\n",
    "from astropy.coordinates import Angle\n",
    "\n",
    "import ipywidgets as widgets\n",
    "from ipywidgets import Button\n",
    "from IPython.display import display\n",
    "from astropy.table import Table\n",
    "import time\n",
    "\n",
    "def cleanse_data(data,keydict):\n",
    "\n",
    "    \n",
    "    ra_key = keydict['ra']\n",
    "    dec_key = keydict['dec']\n",
    "    uid_key = keydict['uid']\n",
    "    name_key = keydict['name']\n",
    "\n",
    "    # first, get objects to compare; find sets of close objects\n",
    "\n",
    "    ra = data[ra_key].values\n",
    "    dec = data[dec_key].values\n",
    "\n",
    "    coords = SkyCoord(ra*u.deg, dec*u.deg)\n",
    "\n",
    "    # Set the search radius\n",
    "    seplimit = search_radius * u.deg   \n",
    "\n",
    "    # Perform the search within the same dataset\n",
    "    idx1, idx2, sep2d, dist3d = astropy.coordinates.search_around_sky(coords, coords, seplimit)\n",
    "\n",
    "    sep2d = np.round(sep2d.value,decimals=13) * u.deg #the distance calculations gives different digits at around 15 decimals. We will use separation to eliminate double entries, so some rounding is needed\n",
    "    # Filter out self-matching results\n",
    "    mask = sep2d != 0.0 * u.deg\n",
    "    idx1 = idx1[mask]\n",
    "    idx2 = idx2[mask]\n",
    "    sep2d = sep2d[mask]\n",
    "\n",
    "    dupidx = []\n",
    "    dupidx2 = []\n",
    "    dup_sep2d = []\n",
    "\n",
    "    # filter out one result of each double (which has the exact same separation)\n",
    "    for i in range(len(idx1)):\n",
    "        if not(sep2d[i] in dup_sep2d):\n",
    "            dupidx2.insert(len(dupidx2)+1,idx2[i])\n",
    "            dupidx.insert(len(dupidx)+1,idx1[i])\n",
    "            dup_sep2d.insert(len(dup_sep2d)+1,sep2d[i])\n",
    "\n",
    "    print(dupidx)\n",
    "\n",
    "    # for i in range(len(dupidx)):\n",
    "    #     print(f\"Duplicate found: idx1={dupidx[i]}, idx2={dupidx2[i]}, sep2d={dup_sep2d[i]}\")\n",
    "    print(str(len(dupidx)+1) + ' \"duplicates\" found.\\nBeginning Analysis ...')\n",
    "\n",
    "    sep2d = dup_sep2d\n",
    "    ## Now I have a list of duplicates ... idx1 is the first match of the duplicate, idx2 is the second match index of the duplicate, sep2d is the angular separation of the duplicates.\n",
    "    ## Next, I need to determine whether each duplicate is in fact a duplicate or not using NED\n",
    "\n",
    "    keep1flag = [] ## this is a flag determining whether to keep each idx1 index\n",
    "    keep2flag = []\n",
    "\n",
    "    for i in range(len(dupidx)): \n",
    "        keep1flag.insert(i,False) # init with false, we will start with the assumption that a potential duplicate is not a duplicate. If Ned confirms it is, then let it be a duplicate.\n",
    "        keep2flag.insert(i,False) # init with false, we will start with the assumption that a potential duplicate is not a duplicate. If Ned confirms it is, then let it be a duplicate.\n",
    "        \n",
    "        ## step 1: search NED for the two object names. If there is a definite match, then the object is a duplicate. If there is not an obvious match then we will require manual intervention.\n",
    "        idxindata1 = dupidx[i]\n",
    "        idxindata2 = dupidx2[i]\n",
    "\n",
    "\n",
    "        obj1_data = data.iloc[idxindata1]\n",
    "        obj2_data = data.iloc[idxindata2]\n",
    "\n",
    "        obj1_name = obj1_data[name_key]\n",
    "        obj2_name = obj2_data[name_key]\n",
    "\n",
    "        print('###########################\\n\\n')\n",
    "        print(f'Comparing record [{obj1_data[uid_key]}] ({obj1_name}) against record [{obj2_data[uid_key]}] ({obj2_name})...')\n",
    "        print(\"Performing NED Name Search...\")\n",
    "\n",
    "        name_result_table1, success, msg = query_ned_by_name(obj1_name)\n",
    "        name_result_table2, success, msg = query_ned_by_name(obj2_name)\n",
    "        finished = False\n",
    "        if type(name_result_table1)==Table and type(name_result_table2)==Table:\n",
    "            if len(name_result_table1) == 1 and len(name_result_table2) == 1:\n",
    "                if name_result_table1['Object Name'][0] == name_result_table2['Object Name'][0]: ## Ned Name match was successful\n",
    "\n",
    "                    print('Name Match Successful, this is a duplicate!\\n\\n')\n",
    "                    if Ask_for_all:\n",
    "\n",
    "                        user_input = ''\n",
    "                        # Create GUI widgets\n",
    "                        total_obj = str(len(dupidx)+1)\n",
    "                        this_obj = str(i+1)\n",
    "                        title_widget = widgets.HTML(value=f\"<h4>Object Comparison {this_obj} / {total_obj} </h4>\")\n",
    "                        obj1_widget = widgets.HTML()\n",
    "                        obj2_widget = widgets.HTML()\n",
    "                        obj_name_search = widgets.HTML(value=f\"<h2>Name found by Ned: {name_result_table1['Object Name'][0]}\")\n",
    "                        question_widget = widgets.HTML(value=\"<h3>The Name match was successful. These are duplicates. Which one do you want to keep?</h3>\")\n",
    "                        # button_keep_Ned = widgets.Button(description=\"Keep Obj1, using NED's name.\")\n",
    "                        button_keep1 = widgets.Button(description='Keep Obj1')\n",
    "                        button_keep2 = widgets.Button(description='Keep Obj2')\n",
    "                        # button_quit = widgets.Button(description='Quit')\n",
    "                        waiting_widget = widgets.HTML(value=\"<h3>\\</h3>\")\n",
    "\n",
    "\n",
    "                        container = widgets.VBox([\n",
    "                            title_widget,\n",
    "                            obj1_widget,\n",
    "                            obj2_widget,\n",
    "                            obj_name_search,\n",
    "                            question_widget,\n",
    "                            widgets.HBox([button_keep1, button_keep2]),\n",
    "                            #widgets.HBox([button_keep_Ned, button_keep1, button_keep2, button_quit]),\n",
    "                            waiting_widget\n",
    "                        ])\n",
    "\n",
    "                        # Display the GUI\n",
    "                        display(container)\n",
    "\n",
    "\n",
    "                        # Event handlers for button clicks\n",
    "                        def on_keep1_clicked(b):\n",
    "                            nonlocal user_input\n",
    "                            user_input = 'Keep Obj1.'\n",
    "\n",
    "\n",
    "                        def on_keep2_clicked(b):\n",
    "                            nonlocal user_input\n",
    "                            user_input = 'Keep Obj2.'\n",
    "\n",
    "                        # def on_keep_Ned_clicked(b):\n",
    "                        #     nonlocal user_input\n",
    "                        #     user_input = \"Keep Obj1, but use Ned's official name.\"\n",
    "\n",
    "                        # def on_quit_clicked(b):\n",
    "                        #     global user_input\n",
    "                        #     user_input = 'quit'\n",
    "\n",
    "                        # Assign event handlers to buttons\n",
    "                        button_keep1.on_click(on_keep1_clicked)\n",
    "                        button_keep2.on_click(on_keep2_clicked)\n",
    "                        # button_keep_Ned.on_click(on_keep_Ned_clicked)\n",
    "                        # button_quit.on_click(on_quit_clicked)\n",
    "\n",
    "                        # Update the widgets with the information\n",
    "                        obj1_widget.value = f\"<hr><h3>Object 1 (from our Data table):<br>Name: [{obj1_data[uid_key]}] {obj1_name}<br>RA: {obj1_data[ra_key]}<br>DEC: {obj1_data[dec_key]}</p>\"\n",
    "                        obj2_widget.value = f\"<hr><h3>Object 2 (from our Data table):<br>Name: [{obj2_data[uid_key]}] {obj2_name}<br>RA: {obj2_data[ra_key]}<br>DEC: {obj2_data[dec_key]}</p>\"\n",
    "\n",
    "                        waiting_icons = ['-','\\\\','|','/']\n",
    "                        j = 0\n",
    "                        # # Disable execution until a button is clicked\n",
    "                        with ui_events() as poll:\n",
    "                            while user_input == '':\n",
    "                                poll(10)          # React to UI events (upto 10 at a time)\n",
    "                                if user_input == '':\n",
    "                                    waiting_widget.value = \"<h3>\"+ waiting_icons[j]+\"</h3>\"\n",
    "                                    j+=1\n",
    "                                    if j==4:\n",
    "                                        j=0\n",
    "                                    time.sleep(0.1)\n",
    "                                             \n",
    "                        if user_input == 'Keep Obj1.':\n",
    "                            keep1flag[i] = True\n",
    "                        if user_input == 'Keep Obj2.':\n",
    "                            keep2flag[i] = True\n",
    "                        # if user_input == \"Keep Obj1, Ned's name.\":\n",
    "                        #     keep1flag[i] = True\n",
    "                        #     data.at[idxindata1, name_key] = name_result_table1['Object Name'][0] # modify the data name to be Ned's official object name.\n",
    "\n",
    "                        # if user_input == 'quit':\n",
    "                        #     sys.exit(\"Program terminated by user\")\n",
    "\n",
    "                        button_keep1.disabled = True\n",
    "                        button_keep2.disabled = True\n",
    "                        # button_keep_Ned.disabled = True\n",
    "                        # button_quit.disabled = True\n",
    "                        waiting_widget.value = 'User entered: '+ user_input\n",
    "\n",
    "                        \n",
    "                    else:\n",
    "                        keep1flag[i] = True\n",
    "                    finished = True\n",
    "\n",
    "\n",
    "\n",
    "        if not(finished):\n",
    "\n",
    "\n",
    "            print('Name Match Unsuccessful.\\n')\n",
    "\n",
    "            result_table_rad_obj1, success, msg = query_ned_by_coords(obj1_data[ra_key],obj1_data[dec_key], search_radius)\n",
    "            result_table_rad_obj2, success, msg = query_ned_by_coords(obj2_data[ra_key],obj2_data[dec_key], search_radius)\n",
    "\n",
    "            ########  AI Generated User Interface   #########\n",
    "\n",
    "            user_input = ''\n",
    "\n",
    "            # Create GUI widgets\n",
    "            total_obj = str(len(dupidx)+1)\n",
    "            this_obj = str(i+1)\n",
    "            title_widget = widgets.HTML(value=f\"<h1>Object Comparison {this_obj} / {total_obj} </h4>\")\n",
    "            obj1_widget = widgets.HTML()\n",
    "            obj1_name_search = widgets.HTML()\n",
    "            obj1_rad_search = widgets.HTML()\n",
    "            obj2_widget = widgets.HTML()\n",
    "            obj2_name_search = widgets.HTML()\n",
    "            obj2_rad_search = widgets.HTML()\n",
    "            ang_sep = widgets.HTML()\n",
    "            question_widget = widgets.HTML(value=\"<h3>Are these two objects duplicates of each other? Choose one to keep, or keep both if not duplicates.</h3>\")\n",
    "            button_keep1 = widgets.Button(description='Keep Obj1')\n",
    "            button_keep2 = widgets.Button(description='Keep Obj2')\n",
    "            button_keep_both = widgets.Button(description='Keep Both')\n",
    "            # button_quit = widgets.Button(description='Quit')\n",
    "            waiting_widget = widgets.HTML(value=\"<h3>\\</h3>\")\n",
    "\n",
    "\n",
    "            # Create layout for the widgets\n",
    "            container = widgets.VBox([\n",
    "                title_widget,\n",
    "                obj1_widget,\n",
    "                obj1_name_search,\n",
    "                obj1_rad_search,\n",
    "                obj2_widget,\n",
    "                obj2_name_search,\n",
    "                obj2_rad_search,\n",
    "                ang_sep,\n",
    "                question_widget,\n",
    "                widgets.HBox([button_keep1, button_keep2, button_keep_both]),\n",
    "                waiting_widget\n",
    "            ])\n",
    "\n",
    "            # Display the GUI\n",
    "            display(container)\n",
    "\n",
    "            # Event handlers for button clicks\n",
    "            def on_keep1_clicked(b):\n",
    "                nonlocal user_input\n",
    "                user_input = 'Keep Object 1 (THIS WAS A DUPLICATE!)'\n",
    "\n",
    "\n",
    "            def on_keep2_clicked(b):\n",
    "                nonlocal user_input\n",
    "                user_input = 'Keep Object 2 (THIS WAS A DUPLICATE!)'\n",
    "\n",
    "            def on_keepboth_clicked(b):\n",
    "                nonlocal user_input\n",
    "                user_input = 'Keep Both (THESE ARE NOT DUPLICATES!)'\n",
    "\n",
    "\n",
    "            # def on_quit_clicked(b):\n",
    "            #     global user_input\n",
    "            #     user_input = 'quit'\n",
    "\n",
    "            # Assign event handlers to buttons\n",
    "            button_keep1.on_click(on_keep1_clicked)\n",
    "            button_keep2.on_click(on_keep2_clicked)\n",
    "            button_keep_both.on_click(on_keepboth_clicked)\n",
    "            # button_quit.on_click(on_quit_clicked)\n",
    "\n",
    "            # Update the widgets with the information\n",
    "            obj1_widget.value = f\"<hr><h2>Object 1 (from our Data table):<br>Name: [{obj1_data[uid_key]}] {obj1_name}<br>RA: {obj1_data[ra_key]}<br>DEC: {obj1_data[dec_key]}</p>\"\n",
    "\n",
    "            obj1_name_search.value = f\"<p><h4> 📖 The Following are results from a NED NAME search for object 1's Name:</p></h4>Well 💩, Name Search was Unsucessful.<br>\"\n",
    "\n",
    "            if type(name_result_table1)==Table:\n",
    "                if len(name_result_table1) > 0:\n",
    "                    obj1_name_search.value = f\"<p><h4> 📖 The Following are results from a NED NAME search for object 1's Name:</p></h4>{result_table_rad_obj1._repr_html_()}<br>\"\n",
    "            \n",
    "            obj1_rad_search.value = f\"<p><h4> 🗺️ The Following are results from a NED position search around object 1's position with radius of the search_radius:</p></h4>{result_table_rad_obj1._repr_html_()}<br><hr>\"\n",
    "\n",
    "            obj2_widget.value = f\"<h2>Object 2 (from our Data table):<br>Name: [{obj2_data[uid_key]}] {obj2_name}<br>RA: {obj2_data[ra_key]}<br>DEC: {obj2_data[dec_key]}</p>\"\n",
    "\n",
    "            obj2_name_search.value = f\"<p><h4> 📖 The Following are results from a NED NAME search for object 2's Name:</p></h4>Well 💩, Name Search was Unsucessful.<br>\"\n",
    "\n",
    "            if type(name_result_table2)==Table:\n",
    "                if len(name_result_table2) > 0:\n",
    "                    obj2_name_search.value = f\"<p><h4> 📖 The Following are results from a NED NAME search for object 2's Name:</p></h4>{result_table_rad_obj2._repr_html_()}<br>\"\n",
    "            \n",
    "            \n",
    "            obj2_rad_search.value = f\"<p><h4> 🗺️ The Following are results from a NED position search around object 2's position with radius of the search_radius:</p></h4>{result_table_rad_obj2._repr_html_()}<br><hr>\"\n",
    "            ang_sep.value = f\"<h3> 🧭 The angular separation of the two objects is {dup_sep2d[i].to_string(unit='arcsec')}<hr>\"\n",
    "\n",
    "            \n",
    "            waiting_icons = ['-','\\\\','|','/']\n",
    "            j = 0\n",
    "            # # Disable execution until a button is clicked\n",
    "            with ui_events() as poll:\n",
    "                while user_input == '':\n",
    "                    poll(10)          # React to UI events (upto 10 at a time)\n",
    "                    if user_input == '':\n",
    "                        waiting_widget.value = \"<h3>\"+ waiting_icons[j]+\"</h3>\"\n",
    "                        j+=1\n",
    "                        if j==4:\n",
    "                            j=0\n",
    "                        time.sleep(0.1)\n",
    "\n",
    "\n",
    "            if user_input == 'Keep Object 1 (THIS WAS A DUPLICATE!)':\n",
    "                keep1flag[i] = True\n",
    "            if user_input == 'Keep Object 2 (THIS WAS A DUPLICATE!)':\n",
    "                keep2flag[i] = True\n",
    "            # if user_input == 'quit':\n",
    "            #     sys.exit(\"Program terminated by user\")\n",
    "            button_keep1.disabled = True\n",
    "            button_keep2.disabled = True\n",
    "            button_keep_both.disabled = True\n",
    "            # button_quit.disabled = True\n",
    "            waiting_widget.value = 'User entered: '+ user_input\n",
    "\n",
    "\n",
    "\n",
    "            ########  End AI Generated User Interface   #########\n",
    "\n",
    "    \n",
    "    # Still need to save and return the cleaned data. Also, if there is exactly 1 object returned by the NED search, is it safe to assume it is a duplicate? # not really, best to get user input anyhow.\n",
    "\n",
    "    # create a new cleansed dataset\n",
    "\n",
    "    new_rows = []\n",
    "\n",
    "    for idxofdata, row in data.iterrows():\n",
    "        insert_data = False\n",
    "        if not(idxofdata in dupidx) and not(idxofdata in dupidx2):\n",
    "            insert_data = True\n",
    "        else:\n",
    "            if idxofdata in dupidx:\n",
    "                idxofduprecord = dupidx.index(idxofdata) #idxofduprecord is the index in the dupidx table, as well as all the other metadata tables on possible dupes\n",
    "                if keep1flag[idxofduprecord]==True:\n",
    "                    insert_data = True\n",
    "            if idxofdata in dupidx2:\n",
    "                idxofduprecord = dupidx2.index(idxofdata)\n",
    "                if keep2flag[idxofduprecord]==True:\n",
    "                    insert_data = True\n",
    "\n",
    "\n",
    "\n",
    "\n",
    "        if insert_data:\n",
    "            new_rows.append(row)\n",
    "    \n",
    "    cleansed_data = pd.DataFrame(new_rows)\n",
    "\n",
    "    return cleansed_data\n",
    "\n",
    "\n",
    "\n",
    " \n",
    "\n",
    "        \n",
    "\n",
    "cleansed_data = cleanse_data(all_surveyed,all_surveyed_cols)\n",
    "cleansed_data.to_csv(cleansed_path, index=False)\n",
    "print('\\n\\nSaved cleansed data to '+cleansed_path)\n"
   ]
  },
  {
   "attachments": {},
   "cell_type": "markdown",
   "metadata": {},
   "source": [
    "##  "
   ]
  }
 ],
 "metadata": {
  "kernelspec": {
   "display_name": "Python 3",
   "language": "python",
   "name": "python3"
  },
  "language_info": {
   "codemirror_mode": {
    "name": "ipython",
    "version": 3
   },
   "file_extension": ".py",
   "mimetype": "text/x-python",
   "name": "python",
   "nbconvert_exporter": "python",
   "pygments_lexer": "ipython3",
   "version": "3.8.5"
  },
  "orig_nbformat": 4
 },
 "nbformat": 4,
 "nbformat_minor": 2
}
