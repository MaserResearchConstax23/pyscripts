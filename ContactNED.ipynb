{
 "cells": [
  {
   "attachments": {},
   "cell_type": "markdown",
   "metadata": {},
   "source": [
    "(C) 2023 Gaudeor Rudmin\n",
    "\n",
    "<if you edit this code, add your copyright statement here>\n",
    "\n",
    "MIT LICENSE\n",
    "\n",
    "Permission is hereby granted, free of charge, to any person obtaining a copy of this software and associated documentation files (the “Software”), to deal in the Software without restriction, including without limitation the rights to use, copy, modify, merge, publish, distribute, sublicense, and/or sell copies of the Software, and to permit persons to whom the Software is furnished to do so, subject to the following conditions:\n",
    "\n",
    "The above copyright notice and this permission notice shall be included in all copies or substantial portions of the Software.\n",
    "\n",
    "THE SOFTWARE IS PROVIDED “AS IS”, WITHOUT WARRANTY OF ANY KIND, EXPRESS OR IMPLIED, INCLUDING BUT NOT LIMITED TO THE WARRANTIES OF MERCHANTABILITY, FITNESS FOR A PARTICULAR PURPOSE AND NONINFRINGEMENT. IN NO EVENT SHALL THE AUTHORS OR COPYRIGHT HOLDERS BE LIABLE FOR ANY CLAIM, DAMAGES OR OTHER LIABILITY, WHETHER IN AN ACTION OF CONTRACT, TORT OR OTHERWISE, ARISING FROM, OUT OF OR IN CONNECTION WITH THE SOFTWARE OR THE USE OR OTHER DEALINGS IN THE SOFTWARE.\n",
    "\n"
   ]
  },
  {
   "cell_type": "code",
   "execution_count": 45,
   "metadata": {},
   "outputs": [],
   "source": [
    "import astropy\n",
    "import astroquery\n",
    "import scipy\n",
    "from astroquery.ipac.ned import Ned\n",
    "import pandas as pd\n",
    "import astropy.units as u\n",
    "from astropy.coordinates import SkyCoord\n",
    "\n",
    "\n",
    "def query_ned_by_name(pass_name):\n",
    "    result_table = None\n",
    "    success = False\n",
    "    msg = \"Match Found!\"\n",
    "    try:\n",
    "        result_table = Ned.query_object(pass_name) #astropy.table.Table\n",
    "        success = True\n",
    "    except astroquery.exceptions.RemoteServiceError as error:\n",
    "        msg = error\n",
    "    except Exception as error:\n",
    "        msg = error\n",
    "    return result_table, success, msg\n",
    "\n",
    "def query_ned_by_coords(pass_ra, pass_dec, pass_radius): # uses deg\n",
    "    result_table = None\n",
    "    success = False\n",
    "    msg = \"Match Found!\"\n",
    "    try:\n",
    "\n",
    "        position = SkyCoord(ra=pass_ra, dec=pass_dec, unit=(u.deg, u.deg), frame='icrs')\n",
    "        result_table = Ned.query_region(position, radius=pass_radius * u.deg)\n",
    "        success = True\n",
    "    except astroquery.exceptions.RemoteServiceError as error:\n",
    "        msg = error\n",
    "    except Exception as error:\n",
    "        msg = error\n",
    "    return result_table, success, msg"
   ]
  },
  {
   "cell_type": "code",
   "execution_count": 46,
   "metadata": {},
   "outputs": [],
   "source": [
    "obj1_name = \"NGC1068\"\n",
    "obj2_name = \"MESSIER 077\""
   ]
  },
  {
   "cell_type": "code",
   "execution_count": 47,
   "metadata": {},
   "outputs": [
    {
     "name": "stdout",
     "output_type": "stream",
     "text": [
      "Match Found!\n",
      "No. Object Name     RA     ... Redshift Points Diameter Points Associations\n",
      "                 degrees   ...                                             \n",
      "--- ----------- ---------- ... --------------- --------------- ------------\n",
      "  1 MESSIER 077   40.66963 ...              85              14            0\n",
      "Match Found!\n",
      "No. Object Name     RA     ... Redshift Points Diameter Points Associations\n",
      "                 degrees   ...                                             \n",
      "--- ----------- ---------- ... --------------- --------------- ------------\n",
      "  1 MESSIER 077   40.66963 ...              85              14            0\n",
      "Duplicate Likely\n",
      "    RA    \n",
      " degrees  \n",
      "----------\n",
      "  40.66963\n",
      "   DEC    \n",
      " degrees  \n",
      "----------\n",
      "  -0.01328\n"
     ]
    }
   ],
   "source": [
    "result_table1, success, msg = query_ned_by_name(obj1_name)\n",
    "print(msg)\n",
    "print(result_table1)\n",
    "\n",
    "result_table2, success, msg = query_ned_by_name(obj2_name)\n",
    "print(msg)\n",
    "print(result_table2)\n",
    "\n",
    "if result_table1['Object Name'][0] == result_table2['Object Name'][0]:\n",
    "    print('Duplicate Likely')\n",
    "else:\n",
    "    print('Duplicate Unknown')\n",
    "print(result_table1['RA'])\n",
    "print(result_table1['DEC'])"
   ]
  },
  {
   "cell_type": "code",
   "execution_count": 48,
   "metadata": {},
   "outputs": [],
   "source": [
    "search_RA = 40.66963 #DEG\n",
    "search_DEC = -0.01328 #DEG\n",
    "search_radius = .5/3600 #DEG"
   ]
  },
  {
   "cell_type": "code",
   "execution_count": 49,
   "metadata": {},
   "outputs": [
    {
     "name": "stdout",
     "output_type": "stream",
     "text": [
      "No.       Object Name           RA     ... Diameter Points Associations\n",
      "                             degrees   ...                             \n",
      "--- ----------------------- ---------- ... --------------- ------------\n",
      "  1 2MASS J02424070-0000480   40.66958 ...               0            0\n",
      "  2             MESSIER 077   40.66963 ...              14            0\n"
     ]
    }
   ],
   "source": [
    "result_table_rad, success, msg = query_ned_by_coords(search_RA,search_DEC, search_radius)\n",
    "\n",
    "print(result_table_rad)"
   ]
  }
 ],
 "metadata": {
  "kernelspec": {
   "display_name": "Python 3",
   "language": "python",
   "name": "python3"
  },
  "language_info": {
   "codemirror_mode": {
    "name": "ipython",
    "version": 3
   },
   "file_extension": ".py",
   "mimetype": "text/x-python",
   "name": "python",
   "nbconvert_exporter": "python",
   "pygments_lexer": "ipython3",
   "version": "3.8.5"
  },
  "orig_nbformat": 4
 },
 "nbformat": 4,
 "nbformat_minor": 2
}
