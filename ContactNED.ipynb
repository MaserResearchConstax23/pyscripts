{
 "cells": [
  {
   "cell_type": "code",
   "execution_count": 22,
   "metadata": {},
   "outputs": [],
   "source": [
    "import astroquery\n",
    "from astroquery.ipac.ned import Ned\n",
    "import pandas as pd\n",
    "\n",
    "def query_ned_by_name(pass_name):\n",
    "    result_table = None\n",
    "    success = False\n",
    "    msg = \"Match Found!\"\n",
    "    try:\n",
    "        result_table = Ned.query_object(pass_name) #astropy.table.Table\n",
    "        success = True\n",
    "    except astroquery.exceptions.RemoteServiceError as error:\n",
    "        msg = error\n",
    "    except Exception as error:\n",
    "        msg = error\n",
    "    return result_table, success, msg\n",
    "\n",
    "def query_ned_by_coords(obj_name, pass_radius):\n",
    "    result_table = None\n",
    "    success = False\n",
    "    msg = \"Match Found!\"\n",
    "    try:\n",
    "        result_table = Ned.query_region(obj_name,pass_radius) #astropy.table.Table\n",
    "        success = True\n",
    "    except astroquery.exceptions.RemoteServiceError as error:\n",
    "        msg = error\n",
    "    except Exception as error:\n",
    "        msg = error\n",
    "    return result_table, success, msg"
   ]
  },
  {
   "cell_type": "code",
   "execution_count": 23,
   "metadata": {},
   "outputs": [],
   "source": [
    "obj1_name = \"NGC1144\"\n",
    "obj2_name = \"NGC1142\""
   ]
  },
  {
   "cell_type": "code",
   "execution_count": 24,
   "metadata": {},
   "outputs": [
    {
     "name": "stdout",
     "output_type": "stream",
     "text": [
      "Match Found!\n",
      "No. Object Name     RA     ... Redshift Points Diameter Points Associations\n",
      "                 degrees   ...                                             \n",
      "--- ----------- ---------- ... --------------- --------------- ------------\n",
      "  1    NGC 1144   43.80082 ...              50              12            1\n",
      "Match Found!\n",
      "No. Object Name     RA     ... Redshift Points Diameter Points Associations\n",
      "                 degrees   ...                                             \n",
      "--- ----------- ---------- ... --------------- --------------- ------------\n",
      "  1    NGC 1144   43.80082 ...              50              12            1\n",
      "Duplicate Likely\n"
     ]
    }
   ],
   "source": [
    "result_table1, success, msg = query_ned_by_name(obj1_name)\n",
    "print(msg)\n",
    "print(result_table1)\n",
    "\n",
    "result_table2, success, msg = query_ned_by_name(obj2_name)\n",
    "print(msg)\n",
    "print(result_table2)\n",
    "\n",
    "if result_table1['Object Name'][0] == result_table2['Object Name'][0]:\n",
    "    print('Duplicate Likely')\n",
    "else:\n",
    "    print('Duplicate Unknown')"
   ]
  }
 ],
 "metadata": {
  "kernelspec": {
   "display_name": "Python 3",
   "language": "python",
   "name": "python3"
  },
  "language_info": {
   "codemirror_mode": {
    "name": "ipython",
    "version": 3
   },
   "file_extension": ".py",
   "mimetype": "text/x-python",
   "name": "python",
   "nbconvert_exporter": "python",
   "pygments_lexer": "ipython3",
   "version": "3.8.5"
  },
  "orig_nbformat": 4
 },
 "nbformat": 4,
 "nbformat_minor": 2
}
